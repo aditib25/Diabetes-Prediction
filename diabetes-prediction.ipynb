{
 "cells": [
  {
   "cell_type": "markdown",
   "id": "f2d13c89",
   "metadata": {
    "papermill": {
     "duration": 0.014428,
     "end_time": "2024-02-07T16:02:44.421201",
     "exception": false,
     "start_time": "2024-02-07T16:02:44.406773",
     "status": "completed"
    },
    "tags": []
   },
   "source": [
    "### IMPORTING NECESSARY LIBRARIES"
   ]
  },
  {
   "cell_type": "code",
   "execution_count": 1,
   "id": "88fda2ce",
   "metadata": {
    "execution": {
     "iopub.execute_input": "2024-02-07T16:02:44.450168Z",
     "iopub.status.busy": "2024-02-07T16:02:44.449876Z",
     "iopub.status.idle": "2024-02-07T16:02:48.529052Z",
     "shell.execute_reply": "2024-02-07T16:02:48.528253Z"
    },
    "papermill": {
     "duration": 4.096105,
     "end_time": "2024-02-07T16:02:48.531279",
     "exception": false,
     "start_time": "2024-02-07T16:02:44.435174",
     "status": "completed"
    },
    "tags": []
   },
   "outputs": [
    {
     "name": "stderr",
     "output_type": "stream",
     "text": [
      "/opt/conda/lib/python3.10/site-packages/scipy/__init__.py:146: UserWarning: A NumPy version >=1.16.5 and <1.23.0 is required for this version of SciPy (detected version 1.24.3\n",
      "  warnings.warn(f\"A NumPy version >={np_minversion} and <{np_maxversion}\"\n"
     ]
    }
   ],
   "source": [
    "import numpy as np\n",
    "import pandas as pd\n",
    "import matplotlib.pyplot as plt\n",
    "import seaborn as sns\n",
    "from sklearn.preprocessing import LabelEncoder\n",
    "from imblearn.over_sampling import SMOTE\n",
    "from sklearn.model_selection import GridSearchCV, cross_val_score\n",
    "from sklearn.metrics import accuracy_score, precision_score, recall_score, f1_score, confusion_matrix, make_scorer\n",
    "from sklearn.preprocessing import StandardScaler, LabelEncoder\n",
    "from sklearn.model_selection import train_test_split\n",
    "from sklearn.linear_model import LogisticRegression\n",
    "from sklearn.tree import DecisionTreeClassifier\n",
    "from sklearn.ensemble import RandomForestClassifier, AdaBoostClassifier, GradientBoostingClassifier\n",
    "from sklearn.neighbors import KNeighborsClassifier\n",
    "from sklearn.naive_bayes import GaussianNB\n",
    "from sklearn.svm import SVC"
   ]
  },
  {
   "cell_type": "code",
   "execution_count": 2,
   "id": "7c9c125b",
   "metadata": {
    "execution": {
     "iopub.execute_input": "2024-02-07T16:02:48.562649Z",
     "iopub.status.busy": "2024-02-07T16:02:48.562214Z",
     "iopub.status.idle": "2024-02-07T16:02:48.733085Z",
     "shell.execute_reply": "2024-02-07T16:02:48.732309Z"
    },
    "papermill": {
     "duration": 0.188339,
     "end_time": "2024-02-07T16:02:48.735377",
     "exception": false,
     "start_time": "2024-02-07T16:02:48.547038",
     "status": "completed"
    },
    "tags": []
   },
   "outputs": [],
   "source": [
    "df_initial = pd.read_csv(\"/kaggle/input/diabetes-prediction-dataset/diabetes_prediction_dataset.csv\")"
   ]
  },
  {
   "cell_type": "markdown",
   "id": "3f5352a7",
   "metadata": {
    "papermill": {
     "duration": 0.014656,
     "end_time": "2024-02-07T16:02:48.765713",
     "exception": false,
     "start_time": "2024-02-07T16:02:48.751057",
     "status": "completed"
    },
    "tags": []
   },
   "source": [
    "### EDA"
   ]
  },
  {
   "cell_type": "code",
   "execution_count": 3,
   "id": "cc8047a1",
   "metadata": {
    "execution": {
     "iopub.execute_input": "2024-02-07T16:02:48.795817Z",
     "iopub.status.busy": "2024-02-07T16:02:48.795504Z",
     "iopub.status.idle": "2024-02-07T16:02:48.802217Z",
     "shell.execute_reply": "2024-02-07T16:02:48.801287Z"
    },
    "papermill": {
     "duration": 0.024022,
     "end_time": "2024-02-07T16:02:48.804195",
     "exception": false,
     "start_time": "2024-02-07T16:02:48.780173",
     "status": "completed"
    },
    "tags": []
   },
   "outputs": [
    {
     "data": {
      "text/plain": [
       "(100000, 9)"
      ]
     },
     "execution_count": 3,
     "metadata": {},
     "output_type": "execute_result"
    }
   ],
   "source": [
    "df_initial.shape"
   ]
  },
  {
   "cell_type": "code",
   "execution_count": 4,
   "id": "d2172645",
   "metadata": {
    "execution": {
     "iopub.execute_input": "2024-02-07T16:02:48.834374Z",
     "iopub.status.busy": "2024-02-07T16:02:48.834108Z",
     "iopub.status.idle": "2024-02-07T16:02:48.851306Z",
     "shell.execute_reply": "2024-02-07T16:02:48.850686Z"
    },
    "papermill": {
     "duration": 0.034342,
     "end_time": "2024-02-07T16:02:48.853064",
     "exception": false,
     "start_time": "2024-02-07T16:02:48.818722",
     "status": "completed"
    },
    "tags": []
   },
   "outputs": [],
   "source": [
    "df = df_initial.sample(n=1000, random_state=42)"
   ]
  },
  {
   "cell_type": "code",
   "execution_count": 5,
   "id": "60bd2f26",
   "metadata": {
    "execution": {
     "iopub.execute_input": "2024-02-07T16:02:48.882977Z",
     "iopub.status.busy": "2024-02-07T16:02:48.882691Z",
     "iopub.status.idle": "2024-02-07T16:02:48.887973Z",
     "shell.execute_reply": "2024-02-07T16:02:48.887193Z"
    },
    "papermill": {
     "duration": 0.02238,
     "end_time": "2024-02-07T16:02:48.889906",
     "exception": false,
     "start_time": "2024-02-07T16:02:48.867526",
     "status": "completed"
    },
    "tags": []
   },
   "outputs": [
    {
     "data": {
      "text/plain": [
       "(1000, 9)"
      ]
     },
     "execution_count": 5,
     "metadata": {},
     "output_type": "execute_result"
    }
   ],
   "source": [
    "df.shape"
   ]
  },
  {
   "cell_type": "code",
   "execution_count": 6,
   "id": "d2c0dd4e",
   "metadata": {
    "execution": {
     "iopub.execute_input": "2024-02-07T16:02:48.919481Z",
     "iopub.status.busy": "2024-02-07T16:02:48.919209Z",
     "iopub.status.idle": "2024-02-07T16:02:48.943291Z",
     "shell.execute_reply": "2024-02-07T16:02:48.942448Z"
    },
    "papermill": {
     "duration": 0.0409,
     "end_time": "2024-02-07T16:02:48.945090",
     "exception": false,
     "start_time": "2024-02-07T16:02:48.904190",
     "status": "completed"
    },
    "tags": []
   },
   "outputs": [
    {
     "data": {
      "text/html": [
       "<div>\n",
       "<style scoped>\n",
       "    .dataframe tbody tr th:only-of-type {\n",
       "        vertical-align: middle;\n",
       "    }\n",
       "\n",
       "    .dataframe tbody tr th {\n",
       "        vertical-align: top;\n",
       "    }\n",
       "\n",
       "    .dataframe thead th {\n",
       "        text-align: right;\n",
       "    }\n",
       "</style>\n",
       "<table border=\"1\" class=\"dataframe\">\n",
       "  <thead>\n",
       "    <tr style=\"text-align: right;\">\n",
       "      <th></th>\n",
       "      <th>gender</th>\n",
       "      <th>age</th>\n",
       "      <th>hypertension</th>\n",
       "      <th>heart_disease</th>\n",
       "      <th>smoking_history</th>\n",
       "      <th>bmi</th>\n",
       "      <th>HbA1c_level</th>\n",
       "      <th>blood_glucose_level</th>\n",
       "      <th>diabetes</th>\n",
       "    </tr>\n",
       "  </thead>\n",
       "  <tbody>\n",
       "    <tr>\n",
       "      <th>75721</th>\n",
       "      <td>Female</td>\n",
       "      <td>13.0</td>\n",
       "      <td>0</td>\n",
       "      <td>0</td>\n",
       "      <td>No Info</td>\n",
       "      <td>20.82</td>\n",
       "      <td>5.8</td>\n",
       "      <td>126</td>\n",
       "      <td>0</td>\n",
       "    </tr>\n",
       "    <tr>\n",
       "      <th>80184</th>\n",
       "      <td>Female</td>\n",
       "      <td>3.0</td>\n",
       "      <td>0</td>\n",
       "      <td>0</td>\n",
       "      <td>No Info</td>\n",
       "      <td>21.00</td>\n",
       "      <td>5.0</td>\n",
       "      <td>145</td>\n",
       "      <td>0</td>\n",
       "    </tr>\n",
       "    <tr>\n",
       "      <th>19864</th>\n",
       "      <td>Male</td>\n",
       "      <td>63.0</td>\n",
       "      <td>0</td>\n",
       "      <td>0</td>\n",
       "      <td>former</td>\n",
       "      <td>25.32</td>\n",
       "      <td>3.5</td>\n",
       "      <td>200</td>\n",
       "      <td>0</td>\n",
       "    </tr>\n",
       "    <tr>\n",
       "      <th>76699</th>\n",
       "      <td>Female</td>\n",
       "      <td>2.0</td>\n",
       "      <td>0</td>\n",
       "      <td>0</td>\n",
       "      <td>never</td>\n",
       "      <td>17.43</td>\n",
       "      <td>6.1</td>\n",
       "      <td>126</td>\n",
       "      <td>0</td>\n",
       "    </tr>\n",
       "    <tr>\n",
       "      <th>92991</th>\n",
       "      <td>Female</td>\n",
       "      <td>33.0</td>\n",
       "      <td>0</td>\n",
       "      <td>0</td>\n",
       "      <td>not current</td>\n",
       "      <td>40.08</td>\n",
       "      <td>6.2</td>\n",
       "      <td>200</td>\n",
       "      <td>1</td>\n",
       "    </tr>\n",
       "  </tbody>\n",
       "</table>\n",
       "</div>"
      ],
      "text/plain": [
       "       gender   age  hypertension  heart_disease smoking_history    bmi  \\\n",
       "75721  Female  13.0             0              0         No Info  20.82   \n",
       "80184  Female   3.0             0              0         No Info  21.00   \n",
       "19864    Male  63.0             0              0          former  25.32   \n",
       "76699  Female   2.0             0              0           never  17.43   \n",
       "92991  Female  33.0             0              0     not current  40.08   \n",
       "\n",
       "       HbA1c_level  blood_glucose_level  diabetes  \n",
       "75721          5.8                  126         0  \n",
       "80184          5.0                  145         0  \n",
       "19864          3.5                  200         0  \n",
       "76699          6.1                  126         0  \n",
       "92991          6.2                  200         1  "
      ]
     },
     "execution_count": 6,
     "metadata": {},
     "output_type": "execute_result"
    }
   ],
   "source": [
    "df.head()"
   ]
  },
  {
   "cell_type": "code",
   "execution_count": 7,
   "id": "b8f143a0",
   "metadata": {
    "execution": {
     "iopub.execute_input": "2024-02-07T16:02:48.975249Z",
     "iopub.status.busy": "2024-02-07T16:02:48.974991Z",
     "iopub.status.idle": "2024-02-07T16:02:49.000469Z",
     "shell.execute_reply": "2024-02-07T16:02:48.999508Z"
    },
    "papermill": {
     "duration": 0.042449,
     "end_time": "2024-02-07T16:02:49.002308",
     "exception": false,
     "start_time": "2024-02-07T16:02:48.959859",
     "status": "completed"
    },
    "tags": []
   },
   "outputs": [
    {
     "name": "stdout",
     "output_type": "stream",
     "text": [
      "<class 'pandas.core.frame.DataFrame'>\n",
      "Index: 1000 entries, 75721 to 4151\n",
      "Data columns (total 9 columns):\n",
      " #   Column               Non-Null Count  Dtype  \n",
      "---  ------               --------------  -----  \n",
      " 0   gender               1000 non-null   object \n",
      " 1   age                  1000 non-null   float64\n",
      " 2   hypertension         1000 non-null   int64  \n",
      " 3   heart_disease        1000 non-null   int64  \n",
      " 4   smoking_history      1000 non-null   object \n",
      " 5   bmi                  1000 non-null   float64\n",
      " 6   HbA1c_level          1000 non-null   float64\n",
      " 7   blood_glucose_level  1000 non-null   int64  \n",
      " 8   diabetes             1000 non-null   int64  \n",
      "dtypes: float64(3), int64(4), object(2)\n",
      "memory usage: 78.1+ KB\n"
     ]
    }
   ],
   "source": [
    "df.info()"
   ]
  },
  {
   "cell_type": "code",
   "execution_count": 8,
   "id": "317799a9",
   "metadata": {
    "execution": {
     "iopub.execute_input": "2024-02-07T16:02:49.072637Z",
     "iopub.status.busy": "2024-02-07T16:02:49.072278Z",
     "iopub.status.idle": "2024-02-07T16:02:49.080259Z",
     "shell.execute_reply": "2024-02-07T16:02:49.079456Z"
    },
    "papermill": {
     "duration": 0.065356,
     "end_time": "2024-02-07T16:02:49.082235",
     "exception": false,
     "start_time": "2024-02-07T16:02:49.016879",
     "status": "completed"
    },
    "tags": []
   },
   "outputs": [
    {
     "data": {
      "text/plain": [
       "array(['Female', 'Male'], dtype=object)"
      ]
     },
     "execution_count": 8,
     "metadata": {},
     "output_type": "execute_result"
    }
   ],
   "source": [
    "df['gender'].unique()"
   ]
  },
  {
   "cell_type": "code",
   "execution_count": 9,
   "id": "d8649f20",
   "metadata": {
    "execution": {
     "iopub.execute_input": "2024-02-07T16:02:49.112801Z",
     "iopub.status.busy": "2024-02-07T16:02:49.112547Z",
     "iopub.status.idle": "2024-02-07T16:02:49.118206Z",
     "shell.execute_reply": "2024-02-07T16:02:49.117218Z"
    },
    "papermill": {
     "duration": 0.022946,
     "end_time": "2024-02-07T16:02:49.119992",
     "exception": false,
     "start_time": "2024-02-07T16:02:49.097046",
     "status": "completed"
    },
    "tags": []
   },
   "outputs": [
    {
     "data": {
      "text/plain": [
       "array(['No Info', 'former', 'never', 'not current', 'current', 'ever'],\n",
       "      dtype=object)"
      ]
     },
     "execution_count": 9,
     "metadata": {},
     "output_type": "execute_result"
    }
   ],
   "source": [
    "df['smoking_history'].unique()"
   ]
  },
  {
   "cell_type": "code",
   "execution_count": 10,
   "id": "03f31547",
   "metadata": {
    "execution": {
     "iopub.execute_input": "2024-02-07T16:02:49.150791Z",
     "iopub.status.busy": "2024-02-07T16:02:49.150298Z",
     "iopub.status.idle": "2024-02-07T16:02:49.158200Z",
     "shell.execute_reply": "2024-02-07T16:02:49.157424Z"
    },
    "papermill": {
     "duration": 0.025262,
     "end_time": "2024-02-07T16:02:49.160114",
     "exception": false,
     "start_time": "2024-02-07T16:02:49.134852",
     "status": "completed"
    },
    "tags": []
   },
   "outputs": [],
   "source": [
    "label_encoder = LabelEncoder()\n",
    "df['smoking_history'] = label_encoder.fit_transform(df['smoking_history'])\n",
    "df['gender'] = label_encoder.fit_transform(df['gender'])"
   ]
  },
  {
   "cell_type": "code",
   "execution_count": 11,
   "id": "e594ae56",
   "metadata": {
    "execution": {
     "iopub.execute_input": "2024-02-07T16:02:49.190944Z",
     "iopub.status.busy": "2024-02-07T16:02:49.190685Z",
     "iopub.status.idle": "2024-02-07T16:02:49.196247Z",
     "shell.execute_reply": "2024-02-07T16:02:49.195452Z"
    },
    "papermill": {
     "duration": 0.023386,
     "end_time": "2024-02-07T16:02:49.198308",
     "exception": false,
     "start_time": "2024-02-07T16:02:49.174922",
     "status": "completed"
    },
    "tags": []
   },
   "outputs": [
    {
     "data": {
      "text/plain": [
       "array([0, 1])"
      ]
     },
     "execution_count": 11,
     "metadata": {},
     "output_type": "execute_result"
    }
   ],
   "source": [
    "df['gender'].unique()"
   ]
  },
  {
   "cell_type": "code",
   "execution_count": 12,
   "id": "1d160fd0",
   "metadata": {
    "execution": {
     "iopub.execute_input": "2024-02-07T16:02:49.229749Z",
     "iopub.status.busy": "2024-02-07T16:02:49.229478Z",
     "iopub.status.idle": "2024-02-07T16:02:49.234904Z",
     "shell.execute_reply": "2024-02-07T16:02:49.234077Z"
    },
    "papermill": {
     "duration": 0.023035,
     "end_time": "2024-02-07T16:02:49.236841",
     "exception": false,
     "start_time": "2024-02-07T16:02:49.213806",
     "status": "completed"
    },
    "tags": []
   },
   "outputs": [
    {
     "data": {
      "text/plain": [
       "array([0, 3, 4, 5, 1, 2])"
      ]
     },
     "execution_count": 12,
     "metadata": {},
     "output_type": "execute_result"
    }
   ],
   "source": [
    "df['smoking_history'].unique()"
   ]
  },
  {
   "cell_type": "code",
   "execution_count": 13,
   "id": "6f1bd67e",
   "metadata": {
    "execution": {
     "iopub.execute_input": "2024-02-07T16:02:49.267932Z",
     "iopub.status.busy": "2024-02-07T16:02:49.267670Z",
     "iopub.status.idle": "2024-02-07T16:02:49.272230Z",
     "shell.execute_reply": "2024-02-07T16:02:49.271393Z"
    },
    "papermill": {
     "duration": 0.022313,
     "end_time": "2024-02-07T16:02:49.274182",
     "exception": false,
     "start_time": "2024-02-07T16:02:49.251869",
     "status": "completed"
    },
    "tags": []
   },
   "outputs": [],
   "source": [
    "df['age'] = df['age'].astype(int)"
   ]
  },
  {
   "cell_type": "code",
   "execution_count": 14,
   "id": "ba4bd6e4",
   "metadata": {
    "execution": {
     "iopub.execute_input": "2024-02-07T16:02:49.307323Z",
     "iopub.status.busy": "2024-02-07T16:02:49.306808Z",
     "iopub.status.idle": "2024-02-07T16:02:49.316041Z",
     "shell.execute_reply": "2024-02-07T16:02:49.315173Z"
    },
    "papermill": {
     "duration": 0.028462,
     "end_time": "2024-02-07T16:02:49.318386",
     "exception": false,
     "start_time": "2024-02-07T16:02:49.289924",
     "status": "completed"
    },
    "tags": []
   },
   "outputs": [
    {
     "name": "stdout",
     "output_type": "stream",
     "text": [
      "<class 'pandas.core.frame.DataFrame'>\n",
      "Index: 1000 entries, 75721 to 4151\n",
      "Data columns (total 9 columns):\n",
      " #   Column               Non-Null Count  Dtype  \n",
      "---  ------               --------------  -----  \n",
      " 0   gender               1000 non-null   int64  \n",
      " 1   age                  1000 non-null   int64  \n",
      " 2   hypertension         1000 non-null   int64  \n",
      " 3   heart_disease        1000 non-null   int64  \n",
      " 4   smoking_history      1000 non-null   int64  \n",
      " 5   bmi                  1000 non-null   float64\n",
      " 6   HbA1c_level          1000 non-null   float64\n",
      " 7   blood_glucose_level  1000 non-null   int64  \n",
      " 8   diabetes             1000 non-null   int64  \n",
      "dtypes: float64(2), int64(7)\n",
      "memory usage: 78.1 KB\n"
     ]
    }
   ],
   "source": [
    "df.info()"
   ]
  },
  {
   "cell_type": "code",
   "execution_count": 15,
   "id": "20aead9a",
   "metadata": {
    "execution": {
     "iopub.execute_input": "2024-02-07T16:02:49.350375Z",
     "iopub.status.busy": "2024-02-07T16:02:49.350139Z",
     "iopub.status.idle": "2024-02-07T16:02:49.357500Z",
     "shell.execute_reply": "2024-02-07T16:02:49.356623Z"
    },
    "papermill": {
     "duration": 0.025273,
     "end_time": "2024-02-07T16:02:49.359589",
     "exception": false,
     "start_time": "2024-02-07T16:02:49.334316",
     "status": "completed"
    },
    "tags": []
   },
   "outputs": [
    {
     "data": {
      "text/plain": [
       "gender                 0\n",
       "age                    0\n",
       "hypertension           0\n",
       "heart_disease          0\n",
       "smoking_history        0\n",
       "bmi                    0\n",
       "HbA1c_level            0\n",
       "blood_glucose_level    0\n",
       "diabetes               0\n",
       "dtype: int64"
      ]
     },
     "execution_count": 15,
     "metadata": {},
     "output_type": "execute_result"
    }
   ],
   "source": [
    "df.isnull().sum()"
   ]
  },
  {
   "cell_type": "code",
   "execution_count": 16,
   "id": "2c9e538f",
   "metadata": {
    "execution": {
     "iopub.execute_input": "2024-02-07T16:02:49.393461Z",
     "iopub.status.busy": "2024-02-07T16:02:49.393192Z",
     "iopub.status.idle": "2024-02-07T16:02:49.635222Z",
     "shell.execute_reply": "2024-02-07T16:02:49.634331Z"
    },
    "papermill": {
     "duration": 0.260608,
     "end_time": "2024-02-07T16:02:49.637272",
     "exception": false,
     "start_time": "2024-02-07T16:02:49.376664",
     "status": "completed"
    },
    "tags": []
   },
   "outputs": [
    {
     "data": {
      "image/png": "[encoded data removed]",
      "text/plain": [
       "<Figure size 640x480 with 1 Axes>"
      ]
     },
     "metadata": {},
     "output_type": "display_data"
    }
   ],
   "source": [
    "sns.countplot(x='diabetes', data=df)\n",
    "plt.title('Outcome Count Plot')\n",
    "plt.show()"
   ]
  },
  {
   "cell_type": "code",
   "execution_count": 17,
   "id": "b83036f7",
   "metadata": {
    "execution": {
     "iopub.execute_input": "2024-02-07T16:02:49.670264Z",
     "iopub.status.busy": "2024-02-07T16:02:49.669939Z",
     "iopub.status.idle": "2024-02-07T16:02:49.674920Z",
     "shell.execute_reply": "2024-02-07T16:02:49.674000Z"
    },
    "papermill": {
     "duration": 0.023843,
     "end_time": "2024-02-07T16:02:49.676979",
     "exception": false,
     "start_time": "2024-02-07T16:02:49.653136",
     "status": "completed"
    },
    "tags": []
   },
   "outputs": [],
   "source": [
    "y = df['diabetes']\n",
    "X = df.drop(columns = ['diabetes'])"
   ]
  },
  {
   "cell_type": "markdown",
   "id": "94f33e9f",
   "metadata": {
    "papermill": {
     "duration": 0.015772,
     "end_time": "2024-02-07T16:02:49.710154",
     "exception": false,
     "start_time": "2024-02-07T16:02:49.694382",
     "status": "completed"
    },
    "tags": []
   },
   "source": [
    "#### SMOTE (SYNTHETIC MINORITY OVERSAMPLING TECHNIQUE) - FOR BALANCE IN OUTCOMES"
   ]
  },
  {
   "cell_type": "code",
   "execution_count": 18,
   "id": "e03ae650",
   "metadata": {
    "execution": {
     "iopub.execute_input": "2024-02-07T16:02:49.742818Z",
     "iopub.status.busy": "2024-02-07T16:02:49.742252Z",
     "iopub.status.idle": "2024-02-07T16:02:49.759549Z",
     "shell.execute_reply": "2024-02-07T16:02:49.758554Z"
    },
    "papermill": {
     "duration": 0.035493,
     "end_time": "2024-02-07T16:02:49.761398",
     "exception": false,
     "start_time": "2024-02-07T16:02:49.725905",
     "status": "completed"
    },
    "tags": []
   },
   "outputs": [
    {
     "name": "stdout",
     "output_type": "stream",
     "text": [
      "Class distribution before SMOTE:\n",
      "diabetes\n",
      "0    915\n",
      "1     85\n",
      "Name: count, dtype: int64\n",
      "\n",
      "Class distribution after SMOTE:\n",
      "diabetes\n",
      "0    915\n",
      "1    915\n",
      "Name: count, dtype: int64\n"
     ]
    }
   ],
   "source": [
    "# Initial class distribution\n",
    "print(\"Class distribution before SMOTE:\")\n",
    "print(y.value_counts())\n",
    "\n",
    "# Apply SMOTE to oversample the minority class\n",
    "smote = SMOTE(sampling_strategy='auto', random_state=42)\n",
    "X, y = smote.fit_resample(X, y)\n",
    "\n",
    "# Class distribution after SMOTE\n",
    "print(\"\\nClass distribution after SMOTE:\")\n",
    "print(pd.Series(y).value_counts())"
   ]
  },
  {
   "cell_type": "code",
   "execution_count": 19,
   "id": "b5ceb7fa",
   "metadata": {
    "execution": {
     "iopub.execute_input": "2024-02-07T16:02:49.793824Z",
     "iopub.status.busy": "2024-02-07T16:02:49.793566Z",
     "iopub.status.idle": "2024-02-07T16:02:50.001945Z",
     "shell.execute_reply": "2024-02-07T16:02:50.001048Z"
    },
    "papermill": {
     "duration": 0.226909,
     "end_time": "2024-02-07T16:02:50.003920",
     "exception": false,
     "start_time": "2024-02-07T16:02:49.777011",
     "status": "completed"
    },
    "tags": []
   },
   "outputs": [
    {
     "data": {
      "image/png": "[encoded data removed]",
      "text/plain": [
       "<Figure size 640x480 with 1 Axes>"
      ]
     },
     "metadata": {},
     "output_type": "display_data"
    }
   ],
   "source": [
    "df = pd.concat([X, y], axis=1)\n",
    "\n",
    "sns.countplot(x='diabetes', data=df)\n",
    "plt.title('Outcome Count Plot')\n",
    "plt.show()"
   ]
  },
  {
   "cell_type": "markdown",
   "id": "a7b1b3e8",
   "metadata": {
    "papermill": {
     "duration": 0.016389,
     "end_time": "2024-02-07T16:02:50.037350",
     "exception": false,
     "start_time": "2024-02-07T16:02:50.020961",
     "status": "completed"
    },
    "tags": []
   },
   "source": [
    "### DATA VISUALISATION"
   ]
  },
  {
   "cell_type": "markdown",
   "id": "da4d3fe4",
   "metadata": {
    "papermill": {
     "duration": 0.015826,
     "end_time": "2024-02-07T16:02:50.069388",
     "exception": false,
     "start_time": "2024-02-07T16:02:50.053562",
     "status": "completed"
    },
    "tags": []
   },
   "source": [
    "#### CORRELATION MATRIX"
   ]
  },
  {
   "cell_type": "code",
   "execution_count": 20,
   "id": "e1dc1952",
   "metadata": {
    "execution": {
     "iopub.execute_input": "2024-02-07T16:02:50.103031Z",
     "iopub.status.busy": "2024-02-07T16:02:50.102748Z",
     "iopub.status.idle": "2024-02-07T16:02:50.607817Z",
     "shell.execute_reply": "2024-02-07T16:02:50.606883Z"
    },
    "papermill": {
     "duration": 0.524814,
     "end_time": "2024-02-07T16:02:50.610718",
     "exception": false,
     "start_time": "2024-02-07T16:02:50.085904",
     "status": "completed"
    },
    "tags": []
   },
   "outputs": [
    {
     "data": {
      "image/png": "[encoded data removed]",
      "text/plain": [
       "<Figure size 1000x800 with 2 Axes>"
      ]
     },
     "metadata": {},
     "output_type": "display_data"
    }
   ],
   "source": [
    "plt.figure(figsize=(10, 8))\n",
    "sns.heatmap(X.corr(), annot=True, cmap='coolwarm', linewidths=0.5)\n",
    "plt.title('Correlation Matrix of all the Features')\n",
    "plt.show()"
   ]
  },
  {
   "cell_type": "code",
   "execution_count": 21,
   "id": "5b18f862",
   "metadata": {
    "execution": {
     "iopub.execute_input": "2024-02-07T16:02:50.648313Z",
     "iopub.status.busy": "2024-02-07T16:02:50.647998Z",
     "iopub.status.idle": "2024-02-07T16:02:50.985910Z",
     "shell.execute_reply": "2024-02-07T16:02:50.984897Z"
    },
    "papermill": {
     "duration": 0.358829,
     "end_time": "2024-02-07T16:02:50.988019",
     "exception": false,
     "start_time": "2024-02-07T16:02:50.629190",
     "status": "completed"
    },
    "tags": []
   },
   "outputs": [
    {
     "name": "stdout",
     "output_type": "stream",
     "text": [
      "age_group\n",
      "61-80     702\n",
      "41-60     543\n",
      "21-40     313\n",
      "0-20      209\n",
      "81-100     63\n",
      "Name: count, dtype: int64\n"
     ]
    },
    {
     "name": "stderr",
     "output_type": "stream",
     "text": [
      "/opt/conda/lib/python3.10/site-packages/seaborn/categorical.py:641: FutureWarning: The default of observed=False is deprecated and will be changed to True in a future version of pandas. Pass observed=False to retain current behavior or observed=True to adopt the future default and silence this warning.\n",
      "  grouped_vals = vals.groupby(grouper)\n",
      "/opt/conda/lib/python3.10/site-packages/seaborn/categorical.py:641: FutureWarning: The default of observed=False is deprecated and will be changed to True in a future version of pandas. Pass observed=False to retain current behavior or observed=True to adopt the future default and silence this warning.\n",
      "  grouped_vals = vals.groupby(grouper)\n"
     ]
    },
    {
     "data": {
      "image/png": "[encoded data removed]",
      "text/plain": [
       "<Figure size 1000x600 with 1 Axes>"
      ]
     },
     "metadata": {},
     "output_type": "display_data"
    }
   ],
   "source": [
    "age_bins = [0, 20, 40, 60, 80, 100]\n",
    "age_labels = ['0-20', '21-40', '41-60', '61-80', '81-100']\n",
    "df['age_group'] = pd.cut(df['age'], bins=age_bins, labels=age_labels, right=False)\n",
    "print(df['age_group'].value_counts())\n",
    "plt.figure(figsize=(10, 6))\n",
    "sns.countplot(x='age_group', hue='diabetes', data=df, order=age_labels, palette='viridis')\n",
    "plt.xticks(rotation=45, ha='right')\n",
    "plt.xlabel('Age Group')\n",
    "plt.ylabel('Count')\n",
    "plt.title('Distribution of Age Groups by Diabetes Status')\n",
    "plt.legend(title='Diabetes', loc='upper right', labels=['Not Diabetic', 'Diabetic'])\n",
    "plt.show()"
   ]
  },
  {
   "cell_type": "code",
   "execution_count": 22,
   "id": "a4179100",
   "metadata": {
    "execution": {
     "iopub.execute_input": "2024-02-07T16:02:51.030084Z",
     "iopub.status.busy": "2024-02-07T16:02:51.029757Z",
     "iopub.status.idle": "2024-02-07T16:02:51.038995Z",
     "shell.execute_reply": "2024-02-07T16:02:51.038185Z"
    },
    "papermill": {
     "duration": 0.032414,
     "end_time": "2024-02-07T16:02:51.041074",
     "exception": false,
     "start_time": "2024-02-07T16:02:51.008660",
     "status": "completed"
    },
    "tags": []
   },
   "outputs": [],
   "source": [
    "scaler = StandardScaler()\n",
    "X = scaler.fit_transform(X)"
   ]
  },
  {
   "cell_type": "code",
   "execution_count": 23,
   "id": "043c835d",
   "metadata": {
    "execution": {
     "iopub.execute_input": "2024-02-07T16:02:51.080307Z",
     "iopub.status.busy": "2024-02-07T16:02:51.080026Z",
     "iopub.status.idle": "2024-02-07T16:02:51.084755Z",
     "shell.execute_reply": "2024-02-07T16:02:51.083970Z"
    },
    "papermill": {
     "duration": 0.026574,
     "end_time": "2024-02-07T16:02:51.086920",
     "exception": false,
     "start_time": "2024-02-07T16:02:51.060346",
     "status": "completed"
    },
    "tags": []
   },
   "outputs": [],
   "source": [
    "label_encoder = LabelEncoder()\n",
    "y = label_encoder.fit_transform(y)"
   ]
  },
  {
   "cell_type": "markdown",
   "id": "b6333725",
   "metadata": {
    "papermill": {
     "duration": 0.019056,
     "end_time": "2024-02-07T16:02:51.125433",
     "exception": false,
     "start_time": "2024-02-07T16:02:51.106377",
     "status": "completed"
    },
    "tags": []
   },
   "source": [
    "### CROSS VALIDATION"
   ]
  },
  {
   "cell_type": "markdown",
   "id": "54dd3b9f",
   "metadata": {
    "papermill": {
     "duration": 0.018404,
     "end_time": "2024-02-07T16:02:51.162225",
     "exception": false,
     "start_time": "2024-02-07T16:02:51.143821",
     "status": "completed"
    },
    "tags": []
   },
   "source": [
    "#### USING CV TO DETERMINE IDEAL VALUE OF N_ESTIMATORS FOR SOME OF THE MODELS"
   ]
  },
  {
   "cell_type": "markdown",
   "id": "f65faced",
   "metadata": {
    "papermill": {
     "duration": 0.01881,
     "end_time": "2024-02-07T16:02:51.199787",
     "exception": false,
     "start_time": "2024-02-07T16:02:51.180977",
     "status": "completed"
    },
    "tags": []
   },
   "source": [
    "- Random Forest"
   ]
  },
  {
   "cell_type": "code",
   "execution_count": 24,
   "id": "3f9bb167",
   "metadata": {
    "execution": {
     "iopub.execute_input": "2024-02-07T16:02:51.238193Z",
     "iopub.status.busy": "2024-02-07T16:02:51.237908Z",
     "iopub.status.idle": "2024-02-07T16:03:21.078948Z",
     "shell.execute_reply": "2024-02-07T16:03:21.077935Z"
    },
    "papermill": {
     "duration": 29.863145,
     "end_time": "2024-02-07T16:03:21.081659",
     "exception": false,
     "start_time": "2024-02-07T16:02:51.218514",
     "status": "completed"
    },
    "tags": []
   },
   "outputs": [
    {
     "name": "stdout",
     "output_type": "stream",
     "text": [
      "Grid Search Results:\n",
      "Best Parameters: {'n_estimators': 250}\n",
      "Best Cross-Validated Accuracy: 0.9748633879781421\n"
     ]
    }
   ],
   "source": [
    "param_grid = {'n_estimators': [100, 200, 250, 300, 350, 400, 500]}\n",
    "model = RandomForestClassifier(random_state=42)\n",
    "grid_search = GridSearchCV(model, param_grid, cv=5, scoring='accuracy')\n",
    "grid_search.fit(X, y)\n",
    "print(\"Grid Search Results:\")\n",
    "print(\"Best Parameters:\", grid_search.best_params_)\n",
    "print(\"Best Cross-Validated Accuracy:\", grid_search.best_score_)"
   ]
  },
  {
   "cell_type": "markdown",
   "id": "4c07363d",
   "metadata": {
    "papermill": {
     "duration": 0.018437,
     "end_time": "2024-02-07T16:03:21.121838",
     "exception": false,
     "start_time": "2024-02-07T16:03:21.103401",
     "status": "completed"
    },
    "tags": []
   },
   "source": [
    "- Ada Boost"
   ]
  },
  {
   "cell_type": "code",
   "execution_count": 25,
   "id": "ef044273",
   "metadata": {
    "execution": {
     "iopub.execute_input": "2024-02-07T16:03:21.160928Z",
     "iopub.status.busy": "2024-02-07T16:03:21.160581Z",
     "iopub.status.idle": "2024-02-07T16:03:52.327233Z",
     "shell.execute_reply": "2024-02-07T16:03:52.326324Z"
    },
    "papermill": {
     "duration": 31.208402,
     "end_time": "2024-02-07T16:03:52.348690",
     "exception": false,
     "start_time": "2024-02-07T16:03:21.140288",
     "status": "completed"
    },
    "tags": []
   },
   "outputs": [
    {
     "name": "stdout",
     "output_type": "stream",
     "text": [
      "Grid Search Results:\n",
      "Best Parameters: {'n_estimators': 250}\n",
      "Best Cross-Validated Accuracy: 0.9688524590163935\n"
     ]
    }
   ],
   "source": [
    "param_grid = {'n_estimators': [100, 200, 250, 300, 350, 400, 500]}\n",
    "model = AdaBoostClassifier(random_state=42)\n",
    "grid_search = GridSearchCV(model, param_grid, cv=5, scoring='accuracy')\n",
    "grid_search.fit(X, y)\n",
    "print(\"Grid Search Results:\")\n",
    "print(\"Best Parameters:\", grid_search.best_params_)\n",
    "print(\"Best Cross-Validated Accuracy:\", grid_search.best_score_)"
   ]
  },
  {
   "cell_type": "markdown",
   "id": "faf9dd14",
   "metadata": {
    "papermill": {
     "duration": 0.023339,
     "end_time": "2024-02-07T16:03:52.396770",
     "exception": false,
     "start_time": "2024-02-07T16:03:52.373431",
     "status": "completed"
    },
    "tags": []
   },
   "source": [
    "- Gradient Boosting"
   ]
  },
  {
   "cell_type": "code",
   "execution_count": 26,
   "id": "0993d598",
   "metadata": {
    "execution": {
     "iopub.execute_input": "2024-02-07T16:03:52.437421Z",
     "iopub.status.busy": "2024-02-07T16:03:52.437078Z",
     "iopub.status.idle": "2024-02-07T16:04:17.053775Z",
     "shell.execute_reply": "2024-02-07T16:04:17.052804Z"
    },
    "papermill": {
     "duration": 24.637871,
     "end_time": "2024-02-07T16:04:17.055989",
     "exception": false,
     "start_time": "2024-02-07T16:03:52.418118",
     "status": "completed"
    },
    "tags": []
   },
   "outputs": [
    {
     "name": "stdout",
     "output_type": "stream",
     "text": [
      "Grid Search Results:\n",
      "Best Parameters: {'n_estimators': 300}\n",
      "Best Cross-Validated Accuracy: 0.9754098360655737\n"
     ]
    }
   ],
   "source": [
    "param_grid = {'n_estimators': [100, 200, 250, 300, 350, 400, 500]}\n",
    "model = GradientBoostingClassifier(random_state=42)\n",
    "grid_search = GridSearchCV(model, param_grid, cv=5, scoring='accuracy')\n",
    "grid_search.fit(X, y)\n",
    "print(\"Grid Search Results:\")\n",
    "print(\"Best Parameters:\", grid_search.best_params_)\n",
    "print(\"Best Cross-Validated Accuracy:\", grid_search.best_score_)"
   ]
  },
  {
   "cell_type": "markdown",
   "id": "5b62079d",
   "metadata": {
    "papermill": {
     "duration": 0.017953,
     "end_time": "2024-02-07T16:04:17.092337",
     "exception": false,
     "start_time": "2024-02-07T16:04:17.074384",
     "status": "completed"
    },
    "tags": []
   },
   "source": [
    "#### USING CV TO DETERMINE NUMBER OF NEIGHBOURS IN KNN"
   ]
  },
  {
   "cell_type": "code",
   "execution_count": 27,
   "id": "0b5a7161",
   "metadata": {
    "execution": {
     "iopub.execute_input": "2024-02-07T16:04:17.129960Z",
     "iopub.status.busy": "2024-02-07T16:04:17.129653Z",
     "iopub.status.idle": "2024-02-07T16:04:17.925827Z",
     "shell.execute_reply": "2024-02-07T16:04:17.924518Z"
    },
    "papermill": {
     "duration": 0.817563,
     "end_time": "2024-02-07T16:04:17.927902",
     "exception": false,
     "start_time": "2024-02-07T16:04:17.110339",
     "status": "completed"
    },
    "tags": []
   },
   "outputs": [
    {
     "name": "stdout",
     "output_type": "stream",
     "text": [
      "Grid Search Results:\n",
      "Best Parameters: {'n_neighbors': 4}\n",
      "Best Cross-Validated Accuracy: 0.9562841530054644\n"
     ]
    }
   ],
   "source": [
    "param_grid = {'n_neighbors': [4, 5, 6, 7, 8, 9, 10, 11]}\n",
    "\n",
    "# Create a KNeighborsClassifier\n",
    "knn_classifier = KNeighborsClassifier()\n",
    "\n",
    "# Perform grid search with cross-validation\n",
    "grid_search = GridSearchCV(knn_classifier, param_grid, cv=5, scoring='accuracy')\n",
    "grid_search.fit(X, y)\n",
    "\n",
    "# Print the results\n",
    "print(\"Grid Search Results:\")\n",
    "print(\"Best Parameters:\", grid_search.best_params_)\n",
    "print(\"Best Cross-Validated Accuracy:\", grid_search.best_score_)"
   ]
  },
  {
   "cell_type": "markdown",
   "id": "ed0327fc",
   "metadata": {
    "papermill": {
     "duration": 0.01926,
     "end_time": "2024-02-07T16:04:17.967023",
     "exception": false,
     "start_time": "2024-02-07T16:04:17.947763",
     "status": "completed"
    },
    "tags": []
   },
   "source": [
    "### COMPARING METRICS (ACCURACY, PRECISION, RECALL & F1 SCORE) OF THE VAROUS MODELS"
   ]
  },
  {
   "cell_type": "code",
   "execution_count": 28,
   "id": "ee58cfab",
   "metadata": {
    "execution": {
     "iopub.execute_input": "2024-02-07T16:04:18.005725Z",
     "iopub.status.busy": "2024-02-07T16:04:18.005368Z",
     "iopub.status.idle": "2024-02-07T16:05:01.565657Z",
     "shell.execute_reply": "2024-02-07T16:05:01.564659Z"
    },
    "papermill": {
     "duration": 43.600073,
     "end_time": "2024-02-07T16:05:01.585974",
     "exception": false,
     "start_time": "2024-02-07T16:04:17.985901",
     "status": "completed"
    },
    "tags": []
   },
   "outputs": [
    {
     "data": {
      "text/html": [
       "<div>\n",
       "<style scoped>\n",
       "    .dataframe tbody tr th:only-of-type {\n",
       "        vertical-align: middle;\n",
       "    }\n",
       "\n",
       "    .dataframe tbody tr th {\n",
       "        vertical-align: top;\n",
       "    }\n",
       "\n",
       "    .dataframe thead th {\n",
       "        text-align: right;\n",
       "    }\n",
       "</style>\n",
       "<table border=\"1\" class=\"dataframe\">\n",
       "  <thead>\n",
       "    <tr style=\"text-align: right;\">\n",
       "      <th></th>\n",
       "      <th>RandomForestClassifier</th>\n",
       "      <th>LogisticRegression</th>\n",
       "      <th>SVC</th>\n",
       "      <th>DecisionTreeClassifier</th>\n",
       "      <th>AdaBoostClassifier</th>\n",
       "      <th>GradientBoostingClassifier</th>\n",
       "      <th>KNeighborsClassifier</th>\n",
       "      <th>GaussianNB</th>\n",
       "    </tr>\n",
       "  </thead>\n",
       "  <tbody>\n",
       "    <tr>\n",
       "      <th>Accuracy</th>\n",
       "      <td>0.9749 (+/- 0.0176)</td>\n",
       "      <td>0.9175 (+/- 0.0097)</td>\n",
       "      <td>0.9470 (+/- 0.0197)</td>\n",
       "      <td>0.9579 (+/- 0.0289)</td>\n",
       "      <td>0.9689 (+/- 0.0247)</td>\n",
       "      <td>0.9754 (+/- 0.0214)</td>\n",
       "      <td>0.9563 (+/- 0.0201)</td>\n",
       "      <td>0.9137 (+/- 0.0488)</td>\n",
       "    </tr>\n",
       "    <tr>\n",
       "      <th>Precision</th>\n",
       "      <td>0.9689 (+/- 0.0130)</td>\n",
       "      <td>0.9073 (+/- 0.0081)</td>\n",
       "      <td>0.9245 (+/- 0.0124)</td>\n",
       "      <td>0.9635 (+/- 0.0085)</td>\n",
       "      <td>0.9674 (+/- 0.0089)</td>\n",
       "      <td>0.9729 (+/- 0.0113)</td>\n",
       "      <td>0.9420 (+/- 0.0135)</td>\n",
       "      <td>0.8829 (+/- 0.0466)</td>\n",
       "    </tr>\n",
       "    <tr>\n",
       "      <th>Recall</th>\n",
       "      <td>0.9814 (+/- 0.0345)</td>\n",
       "      <td>0.9301 (+/- 0.0164)</td>\n",
       "      <td>0.9738 (+/- 0.0420)</td>\n",
       "      <td>0.9519 (+/- 0.0585)</td>\n",
       "      <td>0.9705 (+/- 0.0509)</td>\n",
       "      <td>0.9781 (+/- 0.0410)</td>\n",
       "      <td>0.9727 (+/- 0.0386)</td>\n",
       "      <td>0.9541 (+/- 0.0482)</td>\n",
       "    </tr>\n",
       "    <tr>\n",
       "      <th>F1 Score</th>\n",
       "      <td>0.9748 (+/- 0.0183)</td>\n",
       "      <td>0.9185 (+/- 0.0100)</td>\n",
       "      <td>0.9480 (+/- 0.0209)</td>\n",
       "      <td>0.9567 (+/- 0.0317)</td>\n",
       "      <td>0.9682 (+/- 0.0264)</td>\n",
       "      <td>0.9751 (+/- 0.0224)</td>\n",
       "      <td>0.9567 (+/- 0.0210)</td>\n",
       "      <td>0.9171 (+/- 0.0468)</td>\n",
       "    </tr>\n",
       "  </tbody>\n",
       "</table>\n",
       "</div>"
      ],
      "text/plain": [
       "          RandomForestClassifier   LogisticRegression                  SVC  \\\n",
       "Accuracy     0.9749 (+/- 0.0176)  0.9175 (+/- 0.0097)  0.9470 (+/- 0.0197)   \n",
       "Precision    0.9689 (+/- 0.0130)  0.9073 (+/- 0.0081)  0.9245 (+/- 0.0124)   \n",
       "Recall       0.9814 (+/- 0.0345)  0.9301 (+/- 0.0164)  0.9738 (+/- 0.0420)   \n",
       "F1 Score     0.9748 (+/- 0.0183)  0.9185 (+/- 0.0100)  0.9480 (+/- 0.0209)   \n",
       "\n",
       "          DecisionTreeClassifier   AdaBoostClassifier  \\\n",
       "Accuracy     0.9579 (+/- 0.0289)  0.9689 (+/- 0.0247)   \n",
       "Precision    0.9635 (+/- 0.0085)  0.9674 (+/- 0.0089)   \n",
       "Recall       0.9519 (+/- 0.0585)  0.9705 (+/- 0.0509)   \n",
       "F1 Score     0.9567 (+/- 0.0317)  0.9682 (+/- 0.0264)   \n",
       "\n",
       "          GradientBoostingClassifier KNeighborsClassifier           GaussianNB  \n",
       "Accuracy         0.9754 (+/- 0.0214)  0.9563 (+/- 0.0201)  0.9137 (+/- 0.0488)  \n",
       "Precision        0.9729 (+/- 0.0113)  0.9420 (+/- 0.0135)  0.8829 (+/- 0.0466)  \n",
       "Recall           0.9781 (+/- 0.0410)  0.9727 (+/- 0.0386)  0.9541 (+/- 0.0482)  \n",
       "F1 Score         0.9751 (+/- 0.0224)  0.9567 (+/- 0.0210)  0.9171 (+/- 0.0468)  "
      ]
     },
     "execution_count": 28,
     "metadata": {},
     "output_type": "execute_result"
    }
   ],
   "source": [
    "# Define models\n",
    "models = [\n",
    "    RandomForestClassifier(n_estimators=250, random_state = 42),\n",
    "    LogisticRegression(max_iter=1000, random_state = 42),\n",
    "    SVC(random_state = 42),\n",
    "    DecisionTreeClassifier(random_state = 42),\n",
    "    AdaBoostClassifier(n_estimators=250, random_state = 42),\n",
    "    GradientBoostingClassifier(n_estimators=300, random_state = 42),\n",
    "    KNeighborsClassifier(n_neighbors=4),\n",
    "    GaussianNB()\n",
    "]\n",
    "\n",
    "# List of metric functions\n",
    "metrics = {\n",
    "    'Accuracy': 'accuracy',\n",
    "    'Precision': make_scorer(precision_score, pos_label=1),\n",
    "    'Recall': make_scorer(recall_score, pos_label=1),\n",
    "    'F1 Score': make_scorer(f1_score, pos_label=1)\n",
    "}\n",
    "\n",
    "\n",
    "'''\n",
    "# Loop through each model\n",
    "for model in models:\n",
    "    print(f'{model.__class__.__name__}:')\n",
    "\n",
    "    # Loop through each metric\n",
    "    for metric_name, metric_func in metrics.items():\n",
    "        # Perform cross-validation\n",
    "        cv_scores = cross_val_score(model, X, y, cv=5, scoring=metric_func)\n",
    "\n",
    "        # Print average metric scores for each model\n",
    "        print(f'  Mean {metric_name}: {np.mean(cv_scores):.4f} (+/- {np.std(cv_scores):.4f})')\n",
    "'''\n",
    "\n",
    "# Create an empty DataFrame to store results\n",
    "results_df = pd.DataFrame(index=metrics.keys(), columns=[model.__class__.__name__ for model in models])\n",
    "\n",
    "# Loop through each model\n",
    "for model in models:\n",
    "    # Loop through each metric\n",
    "    for metric_name, metric_func in metrics.items():\n",
    "        # Perform cross-validation\n",
    "        cv_scores = cross_val_score(model, X, y, cv=5, scoring=metric_func)\n",
    "\n",
    "        # Store mean and standard deviation of metric scores in the DataFrame\n",
    "        results_df.at[metric_name, model.__class__.__name__] = f'{np.mean(cv_scores):.4f} (+/- {np.std(cv_scores):.4f})'\n",
    "\n",
    "# Display the results DataFrame\n",
    "results_df"
   ]
  },
  {
   "cell_type": "markdown",
   "id": "d813cd1e",
   "metadata": {
    "papermill": {
     "duration": 0.018282,
     "end_time": "2024-02-07T16:05:01.622573",
     "exception": false,
     "start_time": "2024-02-07T16:05:01.604291",
     "status": "completed"
    },
    "tags": []
   },
   "source": [
    "## GRADIENT BOOSTING CLASSIFIER"
   ]
  },
  {
   "cell_type": "code",
   "execution_count": 29,
   "id": "b9010337",
   "metadata": {
    "execution": {
     "iopub.execute_input": "2024-02-07T16:05:01.660116Z",
     "iopub.status.busy": "2024-02-07T16:05:01.659839Z",
     "iopub.status.idle": "2024-02-07T16:05:02.647722Z",
     "shell.execute_reply": "2024-02-07T16:05:02.646887Z"
    },
    "papermill": {
     "duration": 1.009052,
     "end_time": "2024-02-07T16:05:02.649816",
     "exception": false,
     "start_time": "2024-02-07T16:05:01.640764",
     "status": "completed"
    },
    "tags": []
   },
   "outputs": [
    {
     "data": {
      "image/png": "[encoded data removed]",
      "text/plain": [
       "<Figure size 1000x600 with 1 Axes>"
      ]
     },
     "metadata": {},
     "output_type": "display_data"
    }
   ],
   "source": [
    "model = GradientBoostingClassifier(n_estimators=300, random_state=42)\n",
    "model.fit(X, y)\n",
    "feature_importances = model.feature_importances_\n",
    "feature_names = ['gender', 'age', 'hyper_tension', 'heart_disease', 'smoking_history', 'bmi', 'HbA1c_level', 'blood_glucose_level']\n",
    "plt.figure(figsize=(10, 6))\n",
    "plt.barh(feature_names, feature_importances, color='skyblue')\n",
    "plt.xlabel('Feature Importance')\n",
    "plt.ylabel('Feature Names')\n",
    "plt.title('Feature Importance Bar Chart')\n",
    "plt.show()"
   ]
  },
  {
   "cell_type": "markdown",
   "id": "b111e244",
   "metadata": {
    "papermill": {
     "duration": 0.021982,
     "end_time": "2024-02-07T16:05:02.692703",
     "exception": false,
     "start_time": "2024-02-07T16:05:02.670721",
     "status": "completed"
    },
    "tags": []
   },
   "source": [
    "#### TRAIN TEST SPLIT"
   ]
  },
  {
   "cell_type": "code",
   "execution_count": 30,
   "id": "d9df995b",
   "metadata": {
    "execution": {
     "iopub.execute_input": "2024-02-07T16:05:02.737819Z",
     "iopub.status.busy": "2024-02-07T16:05:02.737127Z",
     "iopub.status.idle": "2024-02-07T16:05:02.742949Z",
     "shell.execute_reply": "2024-02-07T16:05:02.741941Z"
    },
    "papermill": {
     "duration": 0.030824,
     "end_time": "2024-02-07T16:05:02.745322",
     "exception": false,
     "start_time": "2024-02-07T16:05:02.714498",
     "status": "completed"
    },
    "tags": []
   },
   "outputs": [],
   "source": [
    "X_train, X_test, y_train, y_test = train_test_split(X, y, test_size=0.2, random_state=42)"
   ]
  },
  {
   "cell_type": "code",
   "execution_count": 31,
   "id": "dea0e50e",
   "metadata": {
    "execution": {
     "iopub.execute_input": "2024-02-07T16:05:02.791726Z",
     "iopub.status.busy": "2024-02-07T16:05:02.791449Z",
     "iopub.status.idle": "2024-02-07T16:05:03.508846Z",
     "shell.execute_reply": "2024-02-07T16:05:03.507805Z"
    },
    "papermill": {
     "duration": 0.74264,
     "end_time": "2024-02-07T16:05:03.510935",
     "exception": false,
     "start_time": "2024-02-07T16:05:02.768295",
     "status": "completed"
    },
    "tags": []
   },
   "outputs": [
    {
     "name": "stdout",
     "output_type": "stream",
     "text": [
      "Accuracy: 96.99453551912568\n",
      "Precision: 0.9489795918367347\n",
      "Recall: 0.9946524064171123\n",
      "F1 Score: 0.9712793733681462\n"
     ]
    }
   ],
   "source": [
    "model = GradientBoostingClassifier(n_estimators=300, random_state=42, )\n",
    "model.fit(X_train, y_train)\n",
    "y_pred = model.predict(X_test)\n",
    "\n",
    "accuracy = accuracy_score(y_test, y_pred) * 100\n",
    "precision = precision_score(y_test, y_pred)\n",
    "recall = recall_score(y_test, y_pred)\n",
    "f1 = f1_score(y_test, y_pred)\n",
    "\n",
    "print(\"Accuracy:\", accuracy)\n",
    "print(\"Precision:\", precision)\n",
    "print(\"Recall:\", recall)\n",
    "print(\"F1 Score:\", f1)"
   ]
  },
  {
   "cell_type": "markdown",
   "id": "62116889",
   "metadata": {
    "papermill": {
     "duration": 0.019578,
     "end_time": "2024-02-07T16:05:03.549901",
     "exception": false,
     "start_time": "2024-02-07T16:05:03.530323",
     "status": "completed"
    },
    "tags": []
   },
   "source": [
    "#### CONFUSION MATRIX"
   ]
  },
  {
   "cell_type": "code",
   "execution_count": 32,
   "id": "7f1334f1",
   "metadata": {
    "execution": {
     "iopub.execute_input": "2024-02-07T16:05:03.589157Z",
     "iopub.status.busy": "2024-02-07T16:05:03.588833Z",
     "iopub.status.idle": "2024-02-07T16:05:03.860837Z",
     "shell.execute_reply": "2024-02-07T16:05:03.859919Z"
    },
    "papermill": {
     "duration": 0.294079,
     "end_time": "2024-02-07T16:05:03.862975",
     "exception": false,
     "start_time": "2024-02-07T16:05:03.568896",
     "status": "completed"
    },
    "tags": []
   },
   "outputs": [
    {
     "data": {
      "image/png": "[encoded data removed]",
      "text/plain": [
       "<Figure size 600x400 with 2 Axes>"
      ]
     },
     "metadata": {},
     "output_type": "display_data"
    }
   ],
   "source": [
    "# Create a confusion matrix\n",
    "cm = confusion_matrix(y_test, y_pred)\n",
    "\n",
    "# Plot the confusion matrix using seaborn\n",
    "plt.figure(figsize=(6, 4))\n",
    "sns.heatmap(cm, annot=True, fmt='d', cmap='Blues', xticklabels=['Negative', 'Positive'], yticklabels=['Negative', 'Positive'])\n",
    "plt.xlabel('Actual')\n",
    "plt.ylabel('Predicted')\n",
    "plt.title('Confusion Matrix')\n",
    "plt.show()\n"
   ]
  },
  {
   "cell_type": "markdown",
   "id": "7cdd49d2",
   "metadata": {
    "papermill": {
     "duration": 0.019126,
     "end_time": "2024-02-07T16:05:03.901897",
     "exception": false,
     "start_time": "2024-02-07T16:05:03.882771",
     "status": "completed"
    },
    "tags": []
   },
   "source": [
    "## RANDOM FOREST CLASSIFIER"
   ]
  },
  {
   "cell_type": "code",
   "execution_count": 33,
   "id": "02cc7d62",
   "metadata": {
    "execution": {
     "iopub.execute_input": "2024-02-07T16:05:03.941768Z",
     "iopub.status.busy": "2024-02-07T16:05:03.941205Z",
     "iopub.status.idle": "2024-02-07T16:05:04.912371Z",
     "shell.execute_reply": "2024-02-07T16:05:04.911526Z"
    },
    "papermill": {
     "duration": 0.99327,
     "end_time": "2024-02-07T16:05:04.914266",
     "exception": false,
     "start_time": "2024-02-07T16:05:03.920996",
     "status": "completed"
    },
    "tags": []
   },
   "outputs": [
    {
     "data": {
      "image/png": "[encoded data removed]",
      "text/plain": [
       "<Figure size 1000x600 with 1 Axes>"
      ]
     },
     "metadata": {},
     "output_type": "display_data"
    }
   ],
   "source": [
    "model = RandomForestClassifier(n_estimators=250, random_state=42)\n",
    "model.fit(X, y)\n",
    "feature_importances = model.feature_importances_\n",
    "feature_names = ['gender', 'age', 'hyper_tension', 'heart_disease', 'smoking_history', 'bmi', 'HbA1c_level', 'blood_glucose_level']\n",
    "plt.figure(figsize=(10, 6))\n",
    "plt.barh(feature_names, feature_importances, color='skyblue')\n",
    "plt.xlabel('Feature Importance')\n",
    "plt.ylabel('Feature Names')\n",
    "plt.title('Feature Importance Bar Chart')\n",
    "plt.show()"
   ]
  },
  {
   "cell_type": "markdown",
   "id": "1451cf1e",
   "metadata": {
    "papermill": {
     "duration": 0.019478,
     "end_time": "2024-02-07T16:05:04.954233",
     "exception": false,
     "start_time": "2024-02-07T16:05:04.934755",
     "status": "completed"
    },
    "tags": []
   },
   "source": [
    "#### TRAIN TEST SPLIT"
   ]
  },
  {
   "cell_type": "code",
   "execution_count": 34,
   "id": "c40dd257",
   "metadata": {
    "execution": {
     "iopub.execute_input": "2024-02-07T16:05:04.994904Z",
     "iopub.status.busy": "2024-02-07T16:05:04.994307Z",
     "iopub.status.idle": "2024-02-07T16:05:04.999251Z",
     "shell.execute_reply": "2024-02-07T16:05:04.998464Z"
    },
    "papermill": {
     "duration": 0.027274,
     "end_time": "2024-02-07T16:05:05.001037",
     "exception": false,
     "start_time": "2024-02-07T16:05:04.973763",
     "status": "completed"
    },
    "tags": []
   },
   "outputs": [],
   "source": [
    "X_train, X_test, y_train, y_test = train_test_split(X, y, test_size=0.2, random_state=42)"
   ]
  },
  {
   "cell_type": "code",
   "execution_count": 35,
   "id": "8f56be4b",
   "metadata": {
    "execution": {
     "iopub.execute_input": "2024-02-07T16:05:05.041122Z",
     "iopub.status.busy": "2024-02-07T16:05:05.040859Z",
     "iopub.status.idle": "2024-02-07T16:05:05.753271Z",
     "shell.execute_reply": "2024-02-07T16:05:05.752266Z"
    },
    "papermill": {
     "duration": 0.734907,
     "end_time": "2024-02-07T16:05:05.755382",
     "exception": false,
     "start_time": "2024-02-07T16:05:05.020475",
     "status": "completed"
    },
    "tags": []
   },
   "outputs": [
    {
     "name": "stdout",
     "output_type": "stream",
     "text": [
      "Accuracy: 96.17486338797814\n",
      "Precision: 0.9390862944162437\n",
      "Recall: 0.9893048128342246\n",
      "F1 Score: 0.9635416666666667\n"
     ]
    }
   ],
   "source": [
    "model = RandomForestClassifier(n_estimators=250, random_state=42)\n",
    "model.fit(X_train, y_train)\n",
    "y_pred = model.predict(X_test)\n",
    "\n",
    "accuracy = accuracy_score(y_test, y_pred) * 100\n",
    "precision = precision_score(y_test, y_pred)\n",
    "recall = recall_score(y_test, y_pred)\n",
    "f1 = f1_score(y_test, y_pred)\n",
    "\n",
    "print(\"Accuracy:\", accuracy)\n",
    "print(\"Precision:\", precision)\n",
    "print(\"Recall:\", recall)\n",
    "print(\"F1 Score:\", f1)"
   ]
  },
  {
   "cell_type": "markdown",
   "id": "2a41eb05",
   "metadata": {
    "papermill": {
     "duration": 0.02064,
     "end_time": "2024-02-07T16:05:05.796683",
     "exception": false,
     "start_time": "2024-02-07T16:05:05.776043",
     "status": "completed"
    },
    "tags": []
   },
   "source": [
    "#### CONFUSION MATRIX"
   ]
  },
  {
   "cell_type": "code",
   "execution_count": 36,
   "id": "0062f77c",
   "metadata": {
    "execution": {
     "iopub.execute_input": "2024-02-07T16:05:05.838075Z",
     "iopub.status.busy": "2024-02-07T16:05:05.837777Z",
     "iopub.status.idle": "2024-02-07T16:05:06.124068Z",
     "shell.execute_reply": "2024-02-07T16:05:06.123216Z"
    },
    "papermill": {
     "duration": 0.309333,
     "end_time": "2024-02-07T16:05:06.126155",
     "exception": false,
     "start_time": "2024-02-07T16:05:05.816822",
     "status": "completed"
    },
    "tags": []
   },
   "outputs": [
    {
     "data": {
      "image/png": "[encoded data removed]",
      "text/plain": [
       "<Figure size 600x400 with 2 Axes>"
      ]
     },
     "metadata": {},
     "output_type": "display_data"
    }
   ],
   "source": [
    "# Create a confusion matrix\n",
    "cm = confusion_matrix(y_test, y_pred)\n",
    "\n",
    "# Plot the confusion matrix using seaborn\n",
    "plt.figure(figsize=(6, 4))\n",
    "sns.heatmap(cm, annot=True, fmt='d', cmap='Blues', xticklabels=['Negative', 'Positive'], yticklabels=['Negative', 'Positive'])\n",
    "plt.xlabel('Actual')\n",
    "plt.ylabel('Predicted')\n",
    "plt.title('Confusion Matrix')\n",
    "plt.show()\n"
   ]
  },
  {
   "cell_type": "markdown",
   "id": "3fa790d8",
   "metadata": {
    "papermill": {
     "duration": 0.020145,
     "end_time": "2024-02-07T16:05:06.166828",
     "exception": false,
     "start_time": "2024-02-07T16:05:06.146683",
     "status": "completed"
    },
    "tags": []
   },
   "source": [
    "## HYBRID MODELS"
   ]
  },
  {
   "cell_type": "markdown",
   "id": "2027fc3a",
   "metadata": {
    "papermill": {
     "duration": 0.019901,
     "end_time": "2024-02-07T16:05:06.206747",
     "exception": false,
     "start_time": "2024-02-07T16:05:06.186846",
     "status": "completed"
    },
    "tags": []
   },
   "source": [
    "- Voting Classifier"
   ]
  },
  {
   "cell_type": "code",
   "execution_count": 37,
   "id": "920b7569",
   "metadata": {
    "execution": {
     "iopub.execute_input": "2024-02-07T16:05:06.248273Z",
     "iopub.status.busy": "2024-02-07T16:05:06.247983Z",
     "iopub.status.idle": "2024-02-07T16:05:13.124281Z",
     "shell.execute_reply": "2024-02-07T16:05:13.123213Z"
    },
    "papermill": {
     "duration": 6.899501,
     "end_time": "2024-02-07T16:05:13.126315",
     "exception": false,
     "start_time": "2024-02-07T16:05:06.226814",
     "status": "completed"
    },
    "tags": []
   },
   "outputs": [
    {
     "name": "stdout",
     "output_type": "stream",
     "text": [
      "Voting Classifier: Mean Accuracy - 0.9749 (+/- 0.0182)\n"
     ]
    }
   ],
   "source": [
    "from sklearn.ensemble import VotingClassifier\n",
    "\n",
    "# Initialize individual models\n",
    "random_forest = RandomForestClassifier(random_state=42, n_estimators=250)\n",
    "gradient_boosting = GradientBoostingClassifier(random_state=42, n_estimators=300)\n",
    "\n",
    "# Create a Voting Classifier\n",
    "voting_classifier = VotingClassifier(estimators=[\n",
    "    ('rf', random_forest),\n",
    "    ('gb', gradient_boosting)\n",
    "], voting='soft')  # Use 'hard' for majority voting, 'soft' for weighted voting\n",
    "\n",
    "# Evaluate the Voting Classifier\n",
    "cv_scores = cross_val_score(voting_classifier, X, y, cv=5, scoring='accuracy')\n",
    "print(f'Voting Classifier: Mean Accuracy - {np.mean(cv_scores):.4f} (+/- {np.std(cv_scores):.4f})')\n"
   ]
  },
  {
   "cell_type": "code",
   "execution_count": 38,
   "id": "25e3e503",
   "metadata": {
    "execution": {
     "iopub.execute_input": "2024-02-07T16:05:13.168238Z",
     "iopub.status.busy": "2024-02-07T16:05:13.167973Z",
     "iopub.status.idle": "2024-02-07T16:05:14.814432Z",
     "shell.execute_reply": "2024-02-07T16:05:14.813565Z"
    },
    "papermill": {
     "duration": 1.669509,
     "end_time": "2024-02-07T16:05:14.816452",
     "exception": false,
     "start_time": "2024-02-07T16:05:13.146943",
     "status": "completed"
    },
    "tags": []
   },
   "outputs": [
    {
     "name": "stdout",
     "output_type": "stream",
     "text": [
      "Accuracy: 97.26775956284153\n",
      "Precision: 0.9538461538461539\n",
      "Recall: 0.9946524064171123\n",
      "F1 Score: 0.9738219895287957\n"
     ]
    },
    {
     "data": {
      "image/png": "[encoded data removed]",
      "text/plain": [
       "<Figure size 600x400 with 2 Axes>"
      ]
     },
     "metadata": {},
     "output_type": "display_data"
    }
   ],
   "source": [
    "model = VotingClassifier(estimators=[\n",
    "    ('rf', random_forest),\n",
    "    ('gb', gradient_boosting)\n",
    "], voting='soft')\n",
    "model.fit(X_train, y_train)\n",
    "y_pred = model.predict(X_test)\n",
    "\n",
    "accuracy = accuracy_score(y_test, y_pred) * 100\n",
    "precision = precision_score(y_test, y_pred)\n",
    "recall = recall_score(y_test, y_pred)\n",
    "f1 = f1_score(y_test, y_pred)\n",
    "\n",
    "print(\"Accuracy:\", accuracy)\n",
    "print(\"Precision:\", precision)\n",
    "print(\"Recall:\", recall)\n",
    "print(\"F1 Score:\", f1)\n",
    "\n",
    "# Create a confusion matrix\n",
    "cm = confusion_matrix(y_test, y_pred)\n",
    "\n",
    "# Plot the confusion matrix using seaborn\n",
    "plt.figure(figsize=(6, 4))\n",
    "sns.heatmap(cm, annot=True, fmt='d', cmap='Blues', xticklabels=['Negative', 'Positive'], yticklabels=['Negative', 'Positive'])\n",
    "plt.xlabel('Actual')\n",
    "plt.ylabel('Predicted')\n",
    "plt.title('Confusion Matrix')\n",
    "plt.show()\n"
   ]
  },
  {
   "cell_type": "markdown",
   "id": "fac5dcb6",
   "metadata": {
    "papermill": {
     "duration": 0.020475,
     "end_time": "2024-02-07T16:05:14.859256",
     "exception": false,
     "start_time": "2024-02-07T16:05:14.838781",
     "status": "completed"
    },
    "tags": []
   },
   "source": [
    "- Stacking Classifier"
   ]
  },
  {
   "cell_type": "code",
   "execution_count": 39,
   "id": "77ca5e3a",
   "metadata": {
    "execution": {
     "iopub.execute_input": "2024-02-07T16:05:14.902175Z",
     "iopub.status.busy": "2024-02-07T16:05:14.901892Z",
     "iopub.status.idle": "2024-02-07T16:05:54.742377Z",
     "shell.execute_reply": "2024-02-07T16:05:54.741398Z"
    },
    "papermill": {
     "duration": 39.88472,
     "end_time": "2024-02-07T16:05:54.764897",
     "exception": false,
     "start_time": "2024-02-07T16:05:14.880177",
     "status": "completed"
    },
    "tags": []
   },
   "outputs": [
    {
     "name": "stdout",
     "output_type": "stream",
     "text": [
      "Stacking Classifier: Mean Accuracy - 0.9689 (+/- 0.0230)\n"
     ]
    }
   ],
   "source": [
    "from sklearn.ensemble import StackingClassifier\n",
    "\n",
    "# Initialize individual models\n",
    "random_forest = RandomForestClassifier(random_state=42, n_estimators=250)\n",
    "gradient_boosting = GradientBoostingClassifier(random_state=42, n_estimators=300)\n",
    "\n",
    "# Create a Stacking Classifier\n",
    "stacking_classifier = StackingClassifier(estimators=[\n",
    "    ('rf', random_forest),\n",
    "    ('gb', gradient_boosting)\n",
    "], final_estimator=GradientBoostingClassifier(random_state=42))\n",
    "\n",
    "# Evaluate the Stacking Classifier\n",
    "cv_scores = cross_val_score(stacking_classifier, X, y, cv=5, scoring='accuracy')\n",
    "print(f'Stacking Classifier: Mean Accuracy - {np.mean(cv_scores):.4f} (+/- {np.std(cv_scores):.4f})')\n"
   ]
  },
  {
   "cell_type": "markdown",
   "id": "5dde84c2",
   "metadata": {
    "papermill": {
     "duration": 0.020602,
     "end_time": "2024-02-07T16:05:54.806335",
     "exception": false,
     "start_time": "2024-02-07T16:05:54.785733",
     "status": "completed"
    },
    "tags": []
   },
   "source": [
    "### METRICS OF ALL MODELS (USING CV)"
   ]
  },
  {
   "cell_type": "markdown",
   "id": "d80865ee",
   "metadata": {
    "papermill": {
     "duration": 0.020671,
     "end_time": "2024-02-07T16:05:54.847745",
     "exception": false,
     "start_time": "2024-02-07T16:05:54.827074",
     "status": "completed"
    },
    "tags": []
   },
   "source": [
    "##### METRICS:\n",
    "- Accuracy: The proportion of correctly classified instances out of the total instances.\n",
    "- Precision: The ratio of true positives to the sum of true positives and false positives. It measures the accuracy of positive predictions.\n",
    "- Recall (Sensitivity or True Positive Rate): The ratio of true positives to the sum of true positives and false negatives. It measures the model's ability to capture all relevant instances.\n",
    "- F1 Score: The harmonic mean of precision and recall, providing a balance between the two."
   ]
  },
  {
   "cell_type": "code",
   "execution_count": 40,
   "id": "3a523651",
   "metadata": {
    "execution": {
     "iopub.execute_input": "2024-02-07T16:05:54.890566Z",
     "iopub.status.busy": "2024-02-07T16:05:54.890016Z",
     "iopub.status.idle": "2024-02-07T16:09:44.468950Z",
     "shell.execute_reply": "2024-02-07T16:09:44.468068Z"
    },
    "papermill": {
     "duration": 229.62439,
     "end_time": "2024-02-07T16:09:44.492674",
     "exception": false,
     "start_time": "2024-02-07T16:05:54.868284",
     "status": "completed"
    },
    "tags": []
   },
   "outputs": [
    {
     "data": {
      "text/html": [
       "<div>\n",
       "<style scoped>\n",
       "    .dataframe tbody tr th:only-of-type {\n",
       "        vertical-align: middle;\n",
       "    }\n",
       "\n",
       "    .dataframe tbody tr th {\n",
       "        vertical-align: top;\n",
       "    }\n",
       "\n",
       "    .dataframe thead th {\n",
       "        text-align: right;\n",
       "    }\n",
       "</style>\n",
       "<table border=\"1\" class=\"dataframe\">\n",
       "  <thead>\n",
       "    <tr style=\"text-align: right;\">\n",
       "      <th></th>\n",
       "      <th>RandomForestClassifier</th>\n",
       "      <th>LogisticRegression</th>\n",
       "      <th>SVC</th>\n",
       "      <th>DecisionTreeClassifier</th>\n",
       "      <th>AdaBoostClassifier</th>\n",
       "      <th>GradientBoostingClassifier</th>\n",
       "      <th>KNeighborsClassifier</th>\n",
       "      <th>GaussianNB</th>\n",
       "      <th>StackingClassifier</th>\n",
       "      <th>VotingClassifier</th>\n",
       "    </tr>\n",
       "  </thead>\n",
       "  <tbody>\n",
       "    <tr>\n",
       "      <th>Accuracy</th>\n",
       "      <td>0.9749 (+/- 0.0176)</td>\n",
       "      <td>0.9175 (+/- 0.0097)</td>\n",
       "      <td>0.9470 (+/- 0.0197)</td>\n",
       "      <td>0.9579 (+/- 0.0289)</td>\n",
       "      <td>0.9689 (+/- 0.0247)</td>\n",
       "      <td>0.9754 (+/- 0.0214)</td>\n",
       "      <td>0.9563 (+/- 0.0201)</td>\n",
       "      <td>0.9137 (+/- 0.0488)</td>\n",
       "      <td>0.9689 (+/- 0.0230)</td>\n",
       "      <td>0.9749 (+/- 0.0182)</td>\n",
       "    </tr>\n",
       "    <tr>\n",
       "      <th>Precision</th>\n",
       "      <td>0.9689 (+/- 0.0130)</td>\n",
       "      <td>0.9073 (+/- 0.0081)</td>\n",
       "      <td>0.9245 (+/- 0.0124)</td>\n",
       "      <td>0.9635 (+/- 0.0085)</td>\n",
       "      <td>0.9674 (+/- 0.0089)</td>\n",
       "      <td>0.9729 (+/- 0.0113)</td>\n",
       "      <td>0.9420 (+/- 0.0135)</td>\n",
       "      <td>0.8829 (+/- 0.0466)</td>\n",
       "      <td>0.9708 (+/- 0.0090)</td>\n",
       "      <td>0.9698 (+/- 0.0089)</td>\n",
       "    </tr>\n",
       "    <tr>\n",
       "      <th>Recall</th>\n",
       "      <td>0.9814 (+/- 0.0345)</td>\n",
       "      <td>0.9301 (+/- 0.0164)</td>\n",
       "      <td>0.9738 (+/- 0.0420)</td>\n",
       "      <td>0.9519 (+/- 0.0585)</td>\n",
       "      <td>0.9705 (+/- 0.0509)</td>\n",
       "      <td>0.9781 (+/- 0.0410)</td>\n",
       "      <td>0.9727 (+/- 0.0386)</td>\n",
       "      <td>0.9541 (+/- 0.0482)</td>\n",
       "      <td>0.9672 (+/- 0.0521)</td>\n",
       "      <td>0.9803 (+/- 0.0367)</td>\n",
       "    </tr>\n",
       "    <tr>\n",
       "      <th>F1 Score</th>\n",
       "      <td>0.9748 (+/- 0.0183)</td>\n",
       "      <td>0.9185 (+/- 0.0100)</td>\n",
       "      <td>0.9480 (+/- 0.0209)</td>\n",
       "      <td>0.9567 (+/- 0.0317)</td>\n",
       "      <td>0.9682 (+/- 0.0264)</td>\n",
       "      <td>0.9751 (+/- 0.0224)</td>\n",
       "      <td>0.9567 (+/- 0.0210)</td>\n",
       "      <td>0.9171 (+/- 0.0468)</td>\n",
       "      <td>0.9681 (+/- 0.0250)</td>\n",
       "      <td>0.9747 (+/- 0.0191)</td>\n",
       "    </tr>\n",
       "  </tbody>\n",
       "</table>\n",
       "</div>"
      ],
      "text/plain": [
       "          RandomForestClassifier   LogisticRegression                  SVC  \\\n",
       "Accuracy     0.9749 (+/- 0.0176)  0.9175 (+/- 0.0097)  0.9470 (+/- 0.0197)   \n",
       "Precision    0.9689 (+/- 0.0130)  0.9073 (+/- 0.0081)  0.9245 (+/- 0.0124)   \n",
       "Recall       0.9814 (+/- 0.0345)  0.9301 (+/- 0.0164)  0.9738 (+/- 0.0420)   \n",
       "F1 Score     0.9748 (+/- 0.0183)  0.9185 (+/- 0.0100)  0.9480 (+/- 0.0209)   \n",
       "\n",
       "          DecisionTreeClassifier   AdaBoostClassifier  \\\n",
       "Accuracy     0.9579 (+/- 0.0289)  0.9689 (+/- 0.0247)   \n",
       "Precision    0.9635 (+/- 0.0085)  0.9674 (+/- 0.0089)   \n",
       "Recall       0.9519 (+/- 0.0585)  0.9705 (+/- 0.0509)   \n",
       "F1 Score     0.9567 (+/- 0.0317)  0.9682 (+/- 0.0264)   \n",
       "\n",
       "          GradientBoostingClassifier KNeighborsClassifier  \\\n",
       "Accuracy         0.9754 (+/- 0.0214)  0.9563 (+/- 0.0201)   \n",
       "Precision        0.9729 (+/- 0.0113)  0.9420 (+/- 0.0135)   \n",
       "Recall           0.9781 (+/- 0.0410)  0.9727 (+/- 0.0386)   \n",
       "F1 Score         0.9751 (+/- 0.0224)  0.9567 (+/- 0.0210)   \n",
       "\n",
       "                    GaussianNB   StackingClassifier     VotingClassifier  \n",
       "Accuracy   0.9137 (+/- 0.0488)  0.9689 (+/- 0.0230)  0.9749 (+/- 0.0182)  \n",
       "Precision  0.8829 (+/- 0.0466)  0.9708 (+/- 0.0090)  0.9698 (+/- 0.0089)  \n",
       "Recall     0.9541 (+/- 0.0482)  0.9672 (+/- 0.0521)  0.9803 (+/- 0.0367)  \n",
       "F1 Score   0.9171 (+/- 0.0468)  0.9681 (+/- 0.0250)  0.9747 (+/- 0.0191)  "
      ]
     },
     "execution_count": 40,
     "metadata": {},
     "output_type": "execute_result"
    }
   ],
   "source": [
    "# Define models\n",
    "models = [\n",
    "    RandomForestClassifier(n_estimators=250, random_state = 42),\n",
    "    LogisticRegression(max_iter=1000, random_state = 42),\n",
    "    SVC(random_state = 42),\n",
    "    DecisionTreeClassifier(random_state = 42),\n",
    "    AdaBoostClassifier(n_estimators=250, random_state = 42),\n",
    "    GradientBoostingClassifier(n_estimators=300, random_state = 42),\n",
    "    KNeighborsClassifier(n_neighbors=4),\n",
    "    GaussianNB(),\n",
    "    StackingClassifier(estimators=[('rf', random_forest),('gb', gradient_boosting)], final_estimator=GradientBoostingClassifier(random_state=42)),\n",
    "    VotingClassifier(estimators=[('rf', random_forest),('gb', gradient_boosting)], voting='soft')\n",
    "]\n",
    "\n",
    "# List of metric functions\n",
    "metrics = {\n",
    "    'Accuracy': 'accuracy',\n",
    "    'Precision': make_scorer(precision_score, pos_label=1),\n",
    "    'Recall': make_scorer(recall_score, pos_label=1),\n",
    "    'F1 Score': make_scorer(f1_score, pos_label=1)\n",
    "}\n",
    "\n",
    "# Create an empty DataFrame to store results\n",
    "results_df = pd.DataFrame(index=metrics.keys(), columns=[model.__class__.__name__ for model in models])\n",
    "\n",
    "# Loop through each model\n",
    "for model in models:\n",
    "    # Loop through each metric\n",
    "    for metric_name, metric_func in metrics.items():\n",
    "        # Perform cross-validation\n",
    "        cv_scores = cross_val_score(model, X, y, cv=5, scoring=metric_func)\n",
    "\n",
    "        # Store mean and standard deviation of metric scores in the DataFrame\n",
    "        results_df.at[metric_name, model.__class__.__name__] = f'{np.mean(cv_scores):.4f} (+/- {np.std(cv_scores):.4f})'\n",
    "\n",
    "# Display the results DataFrame\n",
    "results_df"
   ]
  },
  {
   "cell_type": "markdown",
   "id": "5fdff3f1",
   "metadata": {
    "papermill": {
     "duration": 0.02096,
     "end_time": "2024-02-07T16:09:44.534817",
     "exception": false,
     "start_time": "2024-02-07T16:09:44.513857",
     "status": "completed"
    },
    "tags": []
   },
   "source": [
    "### CONCLUSION:\n",
    "#### MODEL WITH BEST PERFORMANCE: GRADIENT BOOSTING, CLOSELY FOLLOWED BY VOTING CLASSIFIER AND RANDOM FOREST."
   ]
  }
 ],
 "metadata": {
  "kaggle": {
   "accelerator": "nvidiaTeslaT4",
   "dataSources": [
    {
     "datasetId": 3102947,
     "sourceId": 5344155,
     "sourceType": "datasetVersion"
    }
   ],
   "dockerImageVersionId": 30636,
   "isGpuEnabled": true,
   "isInternetEnabled": true,
   "language": "python",
   "sourceType": "notebook"
  },
  "kernelspec": {
   "display_name": "Python 3",
   "language": "python",
   "name": "python3"
  },
  "language_info": {
   "codemirror_mode": {
    "name": "ipython",
    "version": 3
   },
   "file_extension": ".py",
   "mimetype": "text/x-python",
   "name": "python",
   "nbconvert_exporter": "python",
   "pygments_lexer": "ipython3",
   "version": "3.10.12"
  },
  "papermill": {
   "default_parameters": {},
   "duration": 425.455323,
   "end_time": "2024-02-07T16:09:45.175767",
   "environment_variables": {},
   "exception": null,
   "input_path": "__notebook__.ipynb",
   "output_path": "__notebook__.ipynb",
   "parameters": {},
   "start_time": "2024-02-07T16:02:39.720444",
   "version": "2.4.0"
  }
 },
 "nbformat": 4,
 "nbformat_minor": 5
}
